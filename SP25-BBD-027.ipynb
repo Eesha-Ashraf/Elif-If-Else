{
 "cells": [
  {
   "cell_type": "markdown",
   "id": "f8bd5266-d955-4e5d-92c1-7de60f6671d5",
   "metadata": {},
   "source": [
    "# Qusetion Number 1:"
   ]
  },
  {
   "cell_type": "code",
   "execution_count": 2,
   "id": "33e5e81c-82bb-431a-9076-ca364ab5b08b",
   "metadata": {},
   "outputs": [],
   "source": [
    "# Write a program to check if the number is positive, negative, or zero\n",
    "Number=24"
   ]
  },
  {
   "cell_type": "code",
   "execution_count": 3,
   "id": "f33547df-85b9-4e1d-9cf8-1ff56867847c",
   "metadata": {},
   "outputs": [
    {
     "name": "stdout",
     "output_type": "stream",
     "text": [
      "Positive\n"
     ]
    }
   ],
   "source": [
    "if Number==+24:\n",
    "    print(\"Positive\")\n",
    "elif  Number==-24:\n",
    "    print(\"Negative\")\n",
    "else:\n",
    "    print(\"Zero\")"
   ]
  },
  {
   "cell_type": "markdown",
   "id": "608069f0-32dd-4d2c-91eb-0324f285526a",
   "metadata": {},
   "source": [
    "# Qusetion Number 2:"
   ]
  },
  {
   "cell_type": "code",
   "execution_count": 4,
   "id": "c307242a-896b-4205-a61f-db3bd1a9ba37",
   "metadata": {},
   "outputs": [],
   "source": [
    "# Determine whether the given year is leap year or not\n",
    "year= 2024"
   ]
  },
  {
   "cell_type": "code",
   "execution_count": 5,
   "id": "16b676fb-96ed-4e4d-87d5-3065b9b1f8b3",
   "metadata": {},
   "outputs": [
    {
     "name": "stdout",
     "output_type": "stream",
     "text": [
      "Leap Year\n"
     ]
    }
   ],
   "source": [
    "if 2024/4 :\n",
    "    print(\"Leap Year\")\n",
    "else :\n",
    "    print(\"Year\")"
   ]
  },
  {
   "cell_type": "markdown",
   "id": "9bd65034-fe32-4f61-8c35-03990b794eaa",
   "metadata": {},
   "source": [
    "# Qusetion Number 3:"
   ]
  },
  {
   "cell_type": "code",
   "execution_count": 6,
   "id": "351f0d79-48d1-40de-8d42-bdf346e4d24e",
   "metadata": {},
   "outputs": [],
   "source": [
    "# Determine which grade should be given\n",
    "mark=90"
   ]
  },
  {
   "cell_type": "code",
   "execution_count": 7,
   "id": "44857d30-7f67-493a-af5e-1a7724350432",
   "metadata": {},
   "outputs": [
    {
     "name": "stdout",
     "output_type": "stream",
     "text": [
      "A\n"
     ]
    }
   ],
   "source": [
    "if mark >=85:\n",
    "    print(\"A\")\n",
    "elif mark >=70:\n",
    "    print(\"B\")\n",
    "elif mark >=50:\n",
    "    print(\"C\")\n",
    "else :\n",
    "    print(\"D\")    "
   ]
  },
  {
   "cell_type": "code",
   "execution_count": null,
   "id": "d3408f83-84de-44c7-a55b-355e0256e26d",
   "metadata": {},
   "outputs": [],
   "source": []
  }
 ],
 "metadata": {
  "kernelspec": {
   "display_name": "Python [conda env:anaconda new]",
   "language": "python",
   "name": "conda-env-anaconda_new-py"
  },
  "language_info": {
   "codemirror_mode": {
    "name": "ipython",
    "version": 3
   },
   "file_extension": ".py",
   "mimetype": "text/x-python",
   "name": "python",
   "nbconvert_exporter": "python",
   "pygments_lexer": "ipython3",
   "version": "3.12.7"
  }
 },
 "nbformat": 4,
 "nbformat_minor": 5
}
